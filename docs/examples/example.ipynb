{
 "cells": [
  {
   "cell_type": "markdown",
   "metadata": {},
   "source": [
    "# Pyrcrack on a python notebook\n",
    "\n",
    "This is a simple demonstration of pyrcrack being used in a python notebook. \n",
    "\n",
    "This allows for a powerful web interface, with saved states and extensible, useful for everyday penetration testing tasks.\n",
    "\n",
    "### Extracting available wifi interfaces\n",
    "\n",
    "First, we're going to use airmon to get the available wireless interfaces and its drivers."
   ]
  },
  {
   "cell_type": "code",
   "execution_count": 36,
   "metadata": {},
   "outputs": [
    {
     "data": {
      "text/plain": [
       "[{'phy': 'phy1',\n",
       "  'interface': 'wlp3s0',\n",
       "  'driver': 'iwlwifi',\n",
       "  'chipset': 'Intel Corporation Wireless 7260 (rev 83)'}]"
      ]
     },
     "execution_count": 36,
     "metadata": {},
     "output_type": "execute_result"
    }
   ],
   "source": [
    "import pyrcrack\n",
    "\n",
    "airmon = pyrcrack.AirmonNg()\n",
    "\n",
    "[a.asdict() for a in await airmon.interfaces]"
   ]
  },
  {
   "cell_type": "markdown",
   "metadata": {},
   "source": [
    "### Scanning\n",
    "\n",
    "Now we'll use airmon-ng, without bounding it to any access point or channel so it scans freely"
   ]
  },
  {
   "cell_type": "code",
   "execution_count": 26,
   "metadata": {},
   "outputs": [
    {
     "data": {
      "text/plain": [
       "[TESTNET - (FF:FF:FF:FF:FF:FF)]"
      ]
     },
     "execution_count": 26,
     "metadata": {},
     "output_type": "execute_result"
    }
   ],
   "source": [
    "async with airmon(\"wlp3s0\") as mon:\n",
    "    async with pyrcrack.AirodumpNg() as pdump:\n",
    "        async for aps in pdump(mon.monitor_interface):\n",
    "            break # So notebook execution doesn't get stuck here \n",
    "aps"
   ]
  },
  {
   "cell_type": "markdown",
   "metadata": {},
   "source": [
    "### Now, select just THAT specific AP\n",
    "\n",
    "The airodump property of any ap will return the required parameters for airodump-ng to select that client."
   ]
  },
  {
   "cell_type": "code",
   "execution_count": 23,
   "metadata": {},
   "outputs": [
    {
     "data": {
      "text/plain": [
       "{'channel': '11', 'bssid': 'FF:FF:FF:FF:FF:FF'}"
      ]
     },
     "execution_count": 23,
     "metadata": {},
     "output_type": "execute_result"
    }
   ],
   "source": [
    "aps[0].airodump"
   ]
  },
  {
   "cell_type": "code",
   "execution_count": 37,
   "metadata": {},
   "outputs": [
    {
     "data": {
      "text/plain": [
       "[{'essid': 'TESTNET',\n",
       "  'bssid': 'FF:FF:FF:FF:FF:FF',\n",
       "  'packets': '2',\n",
       "  'dbm': '-74',\n",
       "  'score': '76',\n",
       "  'channel': '1',\n",
       "  'encryption': 'WPA+PSK/WPA+AES-CCM'}]"
      ]
     },
     "execution_count": 37,
     "metadata": {},
     "output_type": "execute_result"
    }
   ],
   "source": [
    "async with airmon(\"wlp3s0\") as mon:\n",
    "    # Re-set the interface in monitor mode as in \n",
    "    # previous execution it would have been cleaned up\n",
    "    async with pyrcrack.AirodumpNg() as pdump:\n",
    "        async for result in pdump(mon.monitor_interface, **aps[0].airodump):\n",
    "            break\n",
    "            \n",
    "[a.asdict() for a in result]"
   ]
  }
 ],
 "metadata": {
  "kernelspec": {
   "display_name": "Python 3",
   "language": "python",
   "name": "python3"
  },
  "language_info": {
   "codemirror_mode": {
    "name": "ipython",
    "version": 3
   },
   "file_extension": ".py",
   "mimetype": "text/x-python",
   "name": "python",
   "nbconvert_exporter": "python",
   "pygments_lexer": "ipython3",
   "version": "3.8.5"
  }
 },
 "nbformat": 4,
 "nbformat_minor": 4
}
