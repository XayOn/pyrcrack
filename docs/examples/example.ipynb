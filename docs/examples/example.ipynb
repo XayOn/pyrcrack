{
 "cells": [
  {
   "cell_type": "code",
   "execution_count": 4,
   "metadata": {},
   "outputs": [
    {
     "data": {
      "text/plain": [
       "[{'phy': 'phy1',\n",
       "  'interface': 'wlp3s0',\n",
       "  'driver': 'iwlwifi',\n",
       "  'chipset': 'Intel Corporation Wireless 7260 (rev 83)'}]"
      ]
     },
     "execution_count": 4,
     "metadata": {},
     "output_type": "execute_result"
    }
   ],
   "source": [
    "import pyrcrack\n",
    "\n",
    "airmon = pyrcrack.AirmonNg()\n",
    "\n",
    "async def get_interfaces():\n",
    "    return await airmon.interfaces\n",
    "\n",
    "[a.asdict() for a in await get_interfaces()]"
   ]
  },
  {
   "cell_type": "code",
   "execution_count": 6,
   "metadata": {},
   "outputs": [
    {
     "data": {
      "text/plain": [
       "[{'essid': 'TEST',\n",
       "  'bssid': 'FF:FF:FF:FF:FF:FF',\n",
       "  'packets': '1',\n",
       "  'dbm': '-85',\n",
       "  'score': '-914',\n",
       "  'channel': '1',\n",
       "  'encryption': 'WPA+TKIP/WPA+PSK/WPA+AES-CCM'}]"
      ]
     },
     "execution_count": 6,
     "metadata": {},
     "output_type": "execute_result"
    }
   ],
   "source": [
    "async def scan_for_targets():\n",
    "    \"\"\"Scan for targets, return json.\"\"\"\n",
    "\n",
    "    async with airmon(\"wlp3s0\") as mon:\n",
    "        async with pyrcrack.AirodumpNg() as pdump:\n",
    "            async for aps in pdump(mon.monitor_interface):\n",
    "                return aps\n",
    "\n",
    "[a.asdict() for a in await scan_for_targets()]"
   ]
  }
 ],
 "metadata": {
  "kernelspec": {
   "display_name": "Python 3",
   "language": "python",
   "name": "python3"
  },
  "language_info": {
   "codemirror_mode": {
    "name": "ipython",
    "version": 3
   },
   "file_extension": ".py",
   "mimetype": "text/x-python",
   "name": "python",
   "nbconvert_exporter": "python",
   "pygments_lexer": "ipython3",
   "version": "3.8.5"
  }
 },
 "nbformat": 4,
 "nbformat_minor": 4
}
